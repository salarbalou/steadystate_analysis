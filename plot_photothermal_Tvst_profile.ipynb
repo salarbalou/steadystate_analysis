{
  "nbformat": 4,
  "nbformat_minor": 0,
  "metadata": {
    "colab": {
      "name": "plot_photothermal_Tvst_profile.ipynb",
      "provenance": [],
      "authorship_tag": "ABX9TyONfWsxw89htc5T26nQdz4r",
      "include_colab_link": true
    },
    "kernelspec": {
      "name": "python3",
      "display_name": "Python 3"
    },
    "language_info": {
      "name": "python"
    }
  },
  "cells": [
    {
      "cell_type": "markdown",
      "metadata": {
        "id": "view-in-github",
        "colab_type": "text"
      },
      "source": [
        "<a href=\"https://colab.research.google.com/github/salarbalou/steadystate_analysis/blob/main/plot_photothermal_Tvst_profile.ipynb\" target=\"_parent\"><img src=\"https://colab.research.google.com/assets/colab-badge.svg\" alt=\"Open In Colab\"/></a>"
      ]
    },
    {
      "cell_type": "code",
      "metadata": {
        "id": "LRNQexEgJCoQ"
      },
      "source": [
        "import numpy as np\n",
        "import requests as req\n",
        "import plotly.io as pio\n",
        "import plotly.graph_objects as go\n",
        "import re\n",
        "import sympy as sy\n",
        "from sympy import symbols, diff\n",
        "from sympy.solvers import solve\n",
        "from scipy.misc import derivative\n",
        "import string as sr\n",
        "pio.templates.default ='plotly_dark'\n",
        "from plotly.subplots import make_subplots\n",
        "import plotly.express as px"
      ],
      "execution_count": 21,
      "outputs": []
    },
    {
      "cell_type": "code",
      "metadata": {
        "id": "gWYX24JqS2wX"
      },
      "source": [
        "def findmb(x, y): # a simple function to find the slope and intecept of a line\n",
        "  m,b = np.polyfit(x, y, deg= 1)\n",
        "  return m,b"
      ],
      "execution_count": 2,
      "outputs": []
    },
    {
      "cell_type": "code",
      "metadata": {
        "id": "9z6DQP0fJtcB"
      },
      "source": [
        "#date_hint = '10-19-21'\n",
        "#compound_hint = 'GNR , GNS , CQD'\n",
        "#concentration_hint = '10x, 5x, 1.5x'\n",
        "#duty_cycle_hint = 'dc20' , 'dc30'\n",
        "dcs= ['dc20', 'dc30', 'dc40', 'dc50', 'dc60', 'dc70', 'dc80', 'dc90'] # a list of duty cycles available\n",
        "all_equ_temp = [] # an empty list of equ_temp that can be used to finally store equ_temps in it\n",
        "all_laser_power_density = [] # an empty list of laser_power_density that can bes used to store the values of LPS generated in the for loop\n",
        "all_eta = [] # aan empty list of eta values (photothermal conversion efficiency) that can bes used to store the values of LPS generated in the for loop\n",
        "for dc in dcs: # since we have multiple dutycylce values we make a for loop\n",
        " baseurl = 'https://raw.githubusercontent.com/salarbalou/steadystate_analysis/main/' # base url of the text file \n",
        " char = '.txt' # format of the file\n",
        " compound_and_concentration_dutycycle= '10-21-21-CQD-10x-'+dc #experiment was performed on 10-20-21 using CQD 10x/ dutycycle values change\n",
        " text = req.get(baseurl+compound_and_concentration_dutycycle+char).text # we download and store the text of each file.txt\n",
        " data_path = re.compile(r'^([0-9.]+)[\\s,]+([0-9.]+)+[\\s,]+([-0-9.]+)+[\\s,]+([0-9]+)', re.MULTILINE) # we grab the desired text within the text file (all data except for space and comma)\n",
        " data_list = data_path.findall(text) # this is a list of quadruple strings: each quadruple in this list have abcd string in it. \n",
        " data = []\n",
        " for quadruple in data_list:\n",
        "      eachquadruple = [] # this list here stores the float version of abcd in each quadruple: eachquadruple is a list of four float values\n",
        "      for abcd in quadruple:\n",
        "           eachquadruple.append(float(abcd))\n",
        "      data.append((eachquadruple[0], eachquadruple[1], eachquadruple[2], eachquadruple[3])) # we append all eachquadruples in data\n",
        " final_data = np.array(data) # here we make an array of the list: final_data is a matrix with 183 rows and 4 columns (t, T, I, dc)\n",
        " time = final_data[:, 0][1:162]\n",
        " temperature = final_data[:, 1][1:162]\n",
        " temperature1 = temperature[22:]\n",
        " equ_temp = np.max(temperature, axis=0) # as mentioned, we assume the max T is the equ_T\n",
        " all_equ_temp.append(equ_temp)\n",
        " current = np.sum(-final_data[:, 2][24:162], axis = 0)/138 #Amps\n",
        " dutycycle = final_data[:, 3][23:162]\n",
        " beam_height = 0.1 #cm\n",
        " beam_width = 0.1 #cm\n",
        " voltage_value = np.linspace(6, 7.5, num = 230) # max voltage is 7.5V, min voltage required for laser to turn on is 6V. if we polyfit V with dutycyle(0:250), find the relation of V and dc\n",
        " dutycycle_value  = np.arange(20, 250,1)\n",
        " m, b = findmb(dutycycle_value, voltage_value) \n",
        " realvoltage = np.sum(m*dutycycle+b)/dutycycle.size #V\n",
        " laser_power_density = np.array(((realvoltage*current)/(beam_height*beam_width))) #W/cm^2\n",
        " all_laser_power_density.append(laser_power_density)\n",
        " dt = np.gradient(time)\n",
        " dT = np.gradient(temperature)\n",
        " diffTt = np.sqrt((dT/dt)**2)\n",
        " fig = make_subplots(rows = 1, cols = 2, subplot_titles=('Temperature vs time at '+dc, 'dT/dt vs time at '+dc))\n",
        " fig.add_scatter(x = time, y = temperature, mode = 'markers+lines', marker_color = 'red', row = 1, col = 1, name = 'Temperature vs time')\n",
        " fig.add_scatter(x = time, y = diffTt, mode = 'markers+lines', marker_color ='red' , line_color = \"green\", row  = 1, col  =2, name='dT/dt vs time')\n",
        " fig.update_xaxes(title_text = 'time (seconds)', row = 1, col = 1)\n",
        " fig.update_xaxes(title_text = 'time (seconds)', row = 1, col = 2)\n",
        " fig.update_yaxes(title_text = 'Temperature', row = 1, col = 1)\n",
        " fig.update_yaxes(title_text = 'dT/dt', row = 1, col = 2)\n",
        " fig.update_layout(height = 800, width = 2400)\n",
        " fig.show()\n",
        "\n",
        " #I0 = #incident laser power J/s /////Can be increased by increasing laser power\n",
        " #Itr = #transmitted laser power J/s ////can be decreased by increasing the concentration AND by overlapping adsorption wl on nanoparticle and lser wl \n",
        " #eta = # photothermal conversion eficiency #coefficient # no units //// is a fucntion of nnaopartcle type\n",
        " #h = #heat transfor coefficient between solution and environment+ J/m^2*k*s\n",
        " #S = #surface area seperating solution from environemnt +m^2\n",
        " #Tw = #solution temp + K\n",
        " #T0 = #environment temp + K\n",
        " #m = #mass of solition + gr\n",
        " #Cp = #specific heat capacity of solution + J/g.K\n",
        " #v= volume of the CQD used in microliter + m^3\n",
        " #R = heating rate +K/s\n",
        " r = symbols('r')\n",
        " I0, Itr, eta, h, S, Tw, T0, m, Cp, R = symbols('I0, Itr, eta, h, S, Tw, T0, m, Cp, R')\n",
        " I0 = current*realvoltage #W\n",
        "\n",
        " Itr = (current*realvoltage*0.75) # needs to be experimentally calculated ##NOT YET DONE #W\n",
        "\n",
        "\n",
        " T0 = temperature[0]+273.15 #K\n",
        " Tw = equ_temp+273.15 #K\n",
        " m= 1e-2 #gr based on density of water to be 1g/cm^3\n",
        " R = 1.5*1e-3 #radius of the volume filled with CQDs for 10ul CQD #m\n",
        " H  = 3.2*1e-3 # height of the volume filled with CQDs for 10ul CQD #m\n",
        " hmin = 598*1e-3 # W/mK at 20C\n",
        " hmax = 677*1e-3 # W/mK at 100\n",
        " mh, bh = findmb(np.arange(20, 100, 1)+273, np.arange(hmin, hmax, 1e-3))\n",
        " h = np.max((mh*(temperature[22:112]+273.15)+bh))  #W/m^2*k\n",
        " S = np.pi*R*(R+np.sqrt((H)**2+(R)**2)) #Surface Area of cone filled with CQD #m^2\n",
        " rate = findmb(np.arange(np.sort(temperature[22:112]).size), temperature[22:112]+273.15)[0] #K/s\n",
        " Cp = 4.184 #J/g.K for water\n",
        " eta = (rate*(Cp*m)+np.sum((h*S*(Tw - T0))))/(I0-Itr) # Equation to find the photothermal conversion efficiency #unit less # coefficient\n",
        " all_eta.append(eta)\n",
        "\n",
        "\n",
        "if (np.array(all_equ_temp).size>1): # this will show the Temperature vs DutyCycle plot only in case if we have more than 1 utilized dutycycle\n",
        " fig2 = make_subplots(specs=[[{\"secondary_y\": True}]])\n",
        " fig2.add_trace(go.Scatter(x = all_laser_power_density, y= all_equ_temp, mode = 'markers+lines',name = 'Temperature vs Laser Power Density', marker_color = 'red'), secondary_y = False)\n",
        " fig2.add_trace(go.Scatter(x = all_laser_power_density, y= all_eta, mode = 'markers+lines', name = 'Photothermal Converson Effeciency vs Laser Power Density', marker_color = 'blue'), secondary_y = True)\n",
        " fig2.update_layout(height = 800, width= 2400)\n",
        " fig2.update_xaxes(title = \"Laser Power Density (W/cm^2)\")\n",
        " fig2.update_yaxes(title = 'Temperature', secondary_y=False)\n",
        " fig2.update_yaxes(title = 'Photothermal Conversion Efficiency', secondary_y=True)\n",
        " fig2.show()\n",
        "else:\n",
        " print('No Results')"
      ],
      "execution_count": null,
      "outputs": []
    },
    {
      "cell_type": "code",
      "metadata": {
        "id": "N4om8qKieGs3",
        "colab": {
          "base_uri": "https://localhost:8080/"
        },
        "outputId": "2ab975ee-e509-4781-c372-2b6aa67db884"
      },
      "source": [
        "m,b=np.polyfit(np.arange(20, 100, 10), np.array(all_equ_temp), deg=1) # this function \n",
        "def givemedc(T):\n",
        "  req_dc = (T-b)/m\n",
        "  return np.int(req_dc)\n",
        "givemedc(65) \n",
        "# Please note that this function only return the required DutyCylce for equ T for CQD of 10x concentration,\n",
        "# in case of increase in concentration this value must increase (10 points for halfed-experimentally calculated)"
      ],
      "execution_count": 6,
      "outputs": [
        {
          "output_type": "execute_result",
          "data": {
            "text/plain": [
              "45"
            ]
          },
          "metadata": {},
          "execution_count": 6
        }
      ]
    },
    {
      "cell_type": "markdown",
      "metadata": {
        "id": "3j40HI4gRd_d"
      },
      "source": [
        "## Photothermal Theory:\n",
        "Plasma is hot matter, in which electron are ripped apart from the \n",
        "\n",
        "*   When energy is given to plasma, it starts to oscilliate \n",
        "*   this phenomena is called plasmon oscilliation which froms a quasi particle called plasmon\n",
        "\n",
        "\n",
        "*   in other words, plasmon is the quantum of plasma oscilliaiton \n",
        "*   similliar to photons, the quantum particles of optical oscilliaiotn\n",
        "\n",
        "\n",
        "*   plasmonic resonance is mostly seen in electrons due to the abundacne of free free electron carriers (metals are conductive!)\n",
        "*   However, plasmonic resonacne can also be seen in semiconductor of nanocrystals (ex,CQDs) that have hih concnetration of free electon carriers. \n",
        "\n",
        "\n",
        "*   quantumm dots are artificial atoms, small semiconductor particles\n",
        "*   when photon couples with electron, electron excites from its valence band to condcution band, which makes a hole in the former.\n",
        "since the size of the quantum dot is much smaller than the excitation wevelenght, the hole and excited electron can couple and froma quasi particle called exciton. This quasiparticel has high energy compared to the particle which is larger. \n",
        "\n",
        "\n",
        "\n",
        "\n",
        "\n",
        "\n",
        "\n",
        "\n"
      ]
    }
  ]
}