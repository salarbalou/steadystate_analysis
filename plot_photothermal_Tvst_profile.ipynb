{
  "nbformat": 4,
  "nbformat_minor": 0,
  "metadata": {
    "colab": {
      "name": "plot_photothermal_Tvst_profile.ipynb",
      "provenance": [],
      "authorship_tag": "ABX9TyM2kf5pGX9jaqSF0RQk+c/P",
      "include_colab_link": true
    },
    "kernelspec": {
      "name": "python3",
      "display_name": "Python 3"
    },
    "language_info": {
      "name": "python"
    }
  },
  "cells": [
    {
      "cell_type": "markdown",
      "metadata": {
        "id": "view-in-github",
        "colab_type": "text"
      },
      "source": [
        "<a href=\"https://colab.research.google.com/github/salarbalou/steadystate_analysis/blob/main/plot_photothermal_Tvst_profile.ipynb\" target=\"_parent\"><img src=\"https://colab.research.google.com/assets/colab-badge.svg\" alt=\"Open In Colab\"/></a>"
      ]
    },
    {
      "cell_type": "code",
      "metadata": {
        "id": "LRNQexEgJCoQ"
      },
      "source": [
        "import numpy as np\n",
        "import requests as req\n",
        "import plotly.io as pio\n",
        "import re\n",
        "import string as sr\n",
        "pio.templates.default ='plotly_dark'\n",
        "from plotly.subplots import make_subplots\n",
        "import plotly.express as px"
      ],
      "execution_count": 1,
      "outputs": []
    },
    {
      "cell_type": "code",
      "metadata": {
        "id": "gWYX24JqS2wX"
      },
      "source": [
        "def findmb(x, y): # a simple function to find the slope and intecept of a line\n",
        "  m,b = np.polyfit(x, y, deg= 1)\n",
        "  return m,b"
      ],
      "execution_count": 2,
      "outputs": []
    },
    {
      "cell_type": "code",
      "metadata": {
        "id": "9z6DQP0fJtcB"
      },
      "source": [
        "#date_hint = '10-19-21'\n",
        "#compound_hint = 'GNR , GNS , CQD'\n",
        "#concentration_hint = '10x, 5x, 1.5x'\n",
        "#duty_cycle_hint = 'dc20' , 'dc30'\n",
        "dcs= ['dc20', 'dc30', 'dc40', 'dc50', 'dc60', 'dc70', 'dc80', 'dc90'] # a list of duty cycles available\n",
        "all_equ_temp = [] # an empty list of equ_temp that can be used to finally store equ_temps in it\n",
        "all_laser_power_density = [] # an empty list of laser_power_density that can bes used to store the values of LPS generated in the for loop\n",
        "for dc in dcs: # since we have multiple dutycylce values we make a for loop\n",
        " baseurl = 'https://raw.githubusercontent.com/salarbalou/steadystate_analysis/main/' # base url of the text file \n",
        " char = '.txt' # format of the file\n",
        " compound_and_concentration_dutycycle= '10-21-21-CQD-10x-'+dc #experiment was performed on 10-20-21 using CQD 10x/ dutycycle values change\n",
        " text = req.get(baseurl+compound_and_concentration_dutycycle+char).text # we download and store the text of each file.txt\n",
        " data_path = re.compile(r'^([0-9.]+)[\\s,]+([0-9.]+)+[\\s,]+([-0-9.]+)+[\\s,]+([0-9]+)', re.MULTILINE) # we grab the desired text within the text file (all data except for space and comma)\n",
        " data_list = data_path.findall(text) # this is a list of quadruple strings: each quadruple in this list have abcd string in it. \n",
        " data = []\n",
        " for quadruple in data_list:\n",
        "      eachquadruple = [] # this list here stores the float version of abcd in each quadruple: eachquadruple is a list of four float values\n",
        "      for abcd in quadruple:\n",
        "           eachquadruple.append(float(abcd))\n",
        "      data.append((eachquadruple[0], eachquadruple[1], eachquadruple[2], eachquadruple[3])) # we append all eachquadruples in data\n",
        " final_data = np.array(data) # here we make an array of the list: final_data is a matrix with 183 rows and 4 columns (t, T, I, dc)\n",
        " time = final_data[:, 0][1:162]\n",
        " temperature = final_data[:, 1][1:162]\n",
        " temperature1 = temperature[22:]\n",
        " equ_temp = np.max(temperature, axis=0) # as mentioned, we assume the max T is the equ_T\n",
        " all_equ_temp.append(equ_temp)\n",
        " current = np.sum(-final_data[:, 2][24:162], axis = 0)/138 #Amps\n",
        " dutycycle = final_data[:, 3][23:162]\n",
        " beam_height = 0.1 #cm\n",
        " beam_width = 0.1 #cm\n",
        " voltage_value = np.linspace(6, 7.5, num = 250) # max voltage is 7.5V, min voltage required for laser to turn on is 6V. if we polyfit V with dutycyle(0:250), find the relation of V and dc\n",
        " dutycycle_value  = np.arange(0, 250,1)\n",
        " m, b = findmb(dutycycle_value, voltage_value) \n",
        " realvoltage = np.sum(m*dutycycle+b)/dutycycle.size #V\n",
        " laser_power_density = np.array(((realvoltage*current)/(beam_height*beam_width))) #W/cm^2\n",
        " all_laser_power_density.append(laser_power_density)\n",
        " dt = np.gradient(time)\n",
        " dT = np.gradient(temperature)\n",
        " diffTt = np.sqrt((dT/dt)**2)\n",
        " fig = make_subplots(rows = 1, cols = 2, subplot_titles=('Temperature vs time at '+dc, 'dT/dt vs time at '+dc))\n",
        " fig.add_scatter(x = time, y = temperature, mode = 'markers+lines', marker_color = 'red', row = 1, col = 1, name = 'Temperature vs time')\n",
        " fig.add_scatter(x = time, y = diffTt, mode = 'markers+lines', marker_color ='red' , line_color = \"green\", row  = 1, col  =2, name='dT/dt vs time')\n",
        " fig.update_xaxes(title_text = 'time (seconds)', row = 1, col = 1)\n",
        " fig.update_xaxes(title_text = 'time (seconds)', row = 1, col = 2)\n",
        " fig.update_yaxes(title_text = 'Temperature', row = 1, col = 1)\n",
        " fig.update_yaxes(title_text = 'dT/dt', row = 1, col = 2)\n",
        " fig.update_layout(height = 800, width = 2400)\n",
        " fig.show()\n",
        "if (np.array(all_equ_temp).size>1): # this will show the Temperature vs DutyCycle plot only in case if we have more than 1 utilized dutycycle\n",
        " fig2 = make_subplots()\n",
        " fig2.add_scatter(x = all_laser_power_density, y= all_equ_temp, mode = 'markers+lines', name = 'Temperature vs Laser Power Density', marker_color = 'red')\n",
        " fig2.update_layout(height = 800, width= 2400)\n",
        " fig2.update_xaxes(title = \"Laser Power Density (W/cm^2)\")\n",
        " fig2.update_yaxes(title = 'Temperature')\n",
        " fig2.show()\n",
        "else:\n",
        " print('No Results')"
      ],
      "execution_count": null,
      "outputs": []
    },
    {
      "cell_type": "code",
      "metadata": {
        "id": "N4om8qKieGs3",
        "colab": {
          "base_uri": "https://localhost:8080/"
        },
        "outputId": "3343b3c1-cac6-453d-d88a-904e4031444d"
      },
      "source": [
        "m,b=np.polyfit(np.arange(20, 100, 10), np.array(all_equ_temp), deg=1) # this function \n",
        "def givemedc(T):\n",
        "  req_dc = (T-b)/m\n",
        "  return np.int(req_dc)\n",
        "givemedc(65) \n",
        "# Please note that this function only return the required DutyCylce for equ T for CQD of 10x concentration,\n",
        "# in case of increase in concentration this value must increase (10 points for halfed-experimentally calculated)"
      ],
      "execution_count": 14,
      "outputs": [
        {
          "output_type": "execute_result",
          "data": {
            "text/plain": [
              "45"
            ]
          },
          "metadata": {},
          "execution_count": 14
        }
      ]
    },
    {
      "cell_type": "code",
      "metadata": {
        "id": "-HRPTKNsuuMR"
      },
      "source": [
        ""
      ],
      "execution_count": null,
      "outputs": []
    }
  ]
}