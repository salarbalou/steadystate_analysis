{
  "nbformat": 4,
  "nbformat_minor": 0,
  "metadata": {
    "colab": {
      "name": "plot_photothermal_Tvst_profile.ipynb",
      "provenance": [],
      "authorship_tag": "ABX9TyOXqVeDwBX2NlwFUDHBriSR",
      "include_colab_link": true
    },
    "kernelspec": {
      "name": "python3",
      "display_name": "Python 3"
    },
    "language_info": {
      "name": "python"
    }
  },
  "cells": [
    {
      "cell_type": "markdown",
      "metadata": {
        "id": "view-in-github",
        "colab_type": "text"
      },
      "source": [
        "<a href=\"https://colab.research.google.com/github/salarbalou/steadystate_analysis/blob/main/plot_photothermal_Tvst_profile.ipynb\" target=\"_parent\"><img src=\"https://colab.research.google.com/assets/colab-badge.svg\" alt=\"Open In Colab\"/></a>"
      ]
    },
    {
      "cell_type": "code",
      "metadata": {
        "id": "LRNQexEgJCoQ"
      },
      "source": [
        "import numpy as np\n",
        "import requests as req\n",
        "import plotly.io as pio\n",
        "import re\n",
        "import sympy as sy\n",
        "from sympy import symbols, diff\n",
        "from sympy.solvers import solve\n",
        "from scipy.misc import derivative\n",
        "import string as sr\n",
        "pio.templates.default ='plotly_dark'\n",
        "from plotly.subplots import make_subplots\n",
        "import plotly.express as px"
      ],
      "execution_count": 36,
      "outputs": []
    },
    {
      "cell_type": "code",
      "metadata": {
        "id": "gWYX24JqS2wX"
      },
      "source": [
        "def findmb(x, y): # a simple function to find the slope and intecept of a line\n",
        "  m,b = np.polyfit(x, y, deg= 1)\n",
        "  return m,b"
      ],
      "execution_count": 2,
      "outputs": []
    },
    {
      "cell_type": "code",
      "metadata": {
        "id": "9z6DQP0fJtcB",
        "colab": {
          "base_uri": "https://localhost:8080/",
          "height": 854
        },
        "outputId": "180164d2-2807-4476-d0bc-968a54e01336"
      },
      "source": [
        "#date_hint = '10-19-21'\n",
        "#compound_hint = 'GNR , GNS , CQD'\n",
        "#concentration_hint = '10x, 5x, 1.5x'\n",
        "#duty_cycle_hint = 'dc20' , 'dc30'\n",
        "dcs= ['dc20'] #'dc30', 'dc40', 'dc50', 'dc60', 'dc70', 'dc80', 'dc90'] # a list of duty cycles available\n",
        "all_equ_temp = [] # an empty list of equ_temp that can be used to finally store equ_temps in it\n",
        "all_laser_power_density = [] # an empty list of laser_power_density that can bes used to store the values of LPS generated in the for loop\n",
        "for dc in dcs: # since we have multiple dutycylce values we make a for loop\n",
        " baseurl = 'https://raw.githubusercontent.com/salarbalou/steadystate_analysis/main/' # base url of the text file \n",
        " char = '.txt' # format of the file\n",
        " compound_and_concentration_dutycycle= '10-21-21-CQD-10x-'+dc #experiment was performed on 10-20-21 using CQD 10x/ dutycycle values change\n",
        " text = req.get(baseurl+compound_and_concentration_dutycycle+char).text # we download and store the text of each file.txt\n",
        " data_path = re.compile(r'^([0-9.]+)[\\s,]+([0-9.]+)+[\\s,]+([-0-9.]+)+[\\s,]+([0-9]+)', re.MULTILINE) # we grab the desired text within the text file (all data except for space and comma)\n",
        " data_list = data_path.findall(text) # this is a list of quadruple strings: each quadruple in this list have abcd string in it. \n",
        " data = []\n",
        " for quadruple in data_list:\n",
        "      eachquadruple = [] # this list here stores the float version of abcd in each quadruple: eachquadruple is a list of four float values\n",
        "      for abcd in quadruple:\n",
        "           eachquadruple.append(float(abcd))\n",
        "      data.append((eachquadruple[0], eachquadruple[1], eachquadruple[2], eachquadruple[3])) # we append all eachquadruples in data\n",
        " final_data = np.array(data) # here we make an array of the list: final_data is a matrix with 183 rows and 4 columns (t, T, I, dc)\n",
        " time = final_data[:, 0][1:162]\n",
        " temperature = final_data[:, 1][1:162]\n",
        " temperature1 = temperature[22:]\n",
        " equ_temp = np.max(temperature, axis=0) # as mentioned, we assume the max T is the equ_T\n",
        " all_equ_temp.append(equ_temp)\n",
        " current = np.sum(-final_data[:, 2][24:162], axis = 0)/138 #Amps\n",
        " dutycycle = final_data[:, 3][23:162]\n",
        " beam_height = 0.1 #cm\n",
        " beam_width = 0.1 #cm\n",
        " voltage_value = np.linspace(6, 7.5, num = 230) # max voltage is 7.5V, min voltage required for laser to turn on is 6V. if we polyfit V with dutycyle(0:250), find the relation of V and dc\n",
        " dutycycle_value  = np.arange(20, 250,1)\n",
        " m, b = findmb(dutycycle_value, voltage_value) \n",
        " realvoltage = np.sum(m*dutycycle+b)/dutycycle.size #V\n",
        " laser_power_density = np.array(((realvoltage*current)/(beam_height*beam_width))) #W/cm^2\n",
        " all_laser_power_density.append(laser_power_density)\n",
        " dt = np.gradient(time)\n",
        " dT = np.gradient(temperature)\n",
        " diffTt = np.sqrt((dT/dt)**2)\n",
        " fig = make_subplots(rows = 1, cols = 2, subplot_titles=('Temperature vs time at '+dc, 'dT/dt vs time at '+dc))\n",
        " fig.add_scatter(x = time, y = temperature, mode = 'markers+lines', marker_color = 'red', row = 1, col = 1, name = 'Temperature vs time')\n",
        " fig.add_scatter(x = time, y = diffTt, mode = 'markers+lines', marker_color ='red' , line_color = \"green\", row  = 1, col  =2, name='dT/dt vs time')\n",
        " fig.update_xaxes(title_text = 'time (seconds)', row = 1, col = 1)\n",
        " fig.update_xaxes(title_text = 'time (seconds)', row = 1, col = 2)\n",
        " fig.update_yaxes(title_text = 'Temperature', row = 1, col = 1)\n",
        " fig.update_yaxes(title_text = 'dT/dt', row = 1, col = 2)\n",
        " fig.update_layout(height = 800, width = 2400)\n",
        " fig.show()\n",
        "if (np.array(all_equ_temp).size>1): # this will show the Temperature vs DutyCycle plot only in case if we have more than 1 utilized dutycycle\n",
        " fig2 = make_subplots()\n",
        " fig2.add_scatter(x = all_laser_power_density, y= all_equ_temp, mode = 'markers+lines', name = 'Temperature vs Laser Power Density', marker_color = 'red')\n",
        " fig2.update_layout(height = 800, width= 2400)\n",
        " fig2.update_xaxes(title = \"Laser Power Density (W/cm^2)\")\n",
        " fig2.update_yaxes(title = 'Temperature')\n",
        "else:\n",
        " print('No Results for Temperature vs Laser Power Density')"
      ],
      "execution_count": 24,
      "outputs": [
        {
          "output_type": "display_data",
          "data": {
            "text/html": [
              "<html>\n",
              "<head><meta charset=\"utf-8\" /></head>\n",
              "<body>\n",
              "    <div>\n",
              "            <script src=\"https://cdnjs.cloudflare.com/ajax/libs/mathjax/2.7.5/MathJax.js?config=TeX-AMS-MML_SVG\"></script><script type=\"text/javascript\">if (window.MathJax) {MathJax.Hub.Config({SVG: {font: \"STIX-Web\"}});}</script>\n",
              "                <script type=\"text/javascript\">window.PlotlyConfig = {MathJaxConfig: 'local'};</script>\n",
              "        <script src=\"https://cdn.plot.ly/plotly-latest.min.js\"></script>    \n",
              "            <div id=\"f4cf3ba6-a066-4d0f-a0ef-a17761355371\" class=\"plotly-graph-div\" style=\"height:800px; width:2400px;\"></div>\n",
              "            <script type=\"text/javascript\">\n",
              "                \n",
              "                    window.PLOTLYENV=window.PLOTLYENV || {};\n",
              "                    \n",
              "                if (document.getElementById(\"f4cf3ba6-a066-4d0f-a0ef-a17761355371\")) {\n",
              "                    Plotly.newPlot(\n",
              "                        'f4cf3ba6-a066-4d0f-a0ef-a17761355371',\n",
              "                        [{\"marker\": {\"color\": \"red\"}, \"mode\": \"markers+lines\", \"name\": \"Temperature vs time\", \"type\": \"scatter\", \"x\": [1.0, 2.0, 4.0, 5.0, 6.0, 8.0, 9.0, 10.0, 12.0, 13.0, 14.0, 16.0, 17.0, 18.0, 20.0, 21.0, 22.0, 24.0, 25.0, 26.0, 27.0, 29.0, 30.0, 31.0, 33.0, 34.0, 35.0, 37.0, 38.0, 39.0, 41.0, 42.0, 43.0, 45.0, 46.0, 47.0, 49.0, 50.0, 51.0, 52.0, 54.0, 55.0, 56.0, 58.0, 59.0, 60.0, 62.0, 63.0, 64.0, 66.0, 67.0, 68.0, 70.0, 71.0, 72.0, 74.0, 75.0, 76.0, 77.0, 79.0, 80.0, 81.0, 83.0, 84.0, 85.0, 87.0, 88.0, 89.0, 91.0, 92.0, 93.0, 95.0, 96.0, 97.0, 99.0, 100.0, 101.0, 102.0, 104.0, 105.0, 106.0, 108.0, 109.0, 110.0, 112.0, 113.0, 114.0, 116.0, 117.0, 118.0, 120.0, 121.0, 122.0, 124.0, 125.0, 126.0, 127.0, 129.0, 130.0, 131.0, 133.0, 134.0, 135.0, 137.0, 138.0, 139.0, 141.0, 142.0, 143.0, 145.0, 146.0, 147.0, 149.0, 150.0, 151.0, 152.0, 154.0, 155.0, 156.0, 158.0, 159.0, 160.0, 162.0, 163.0, 164.0, 166.0, 167.0, 168.0, 170.0, 171.0, 172.0, 174.0, 175.0, 176.0, 177.0, 179.0, 180.0, 181.0, 183.0, 184.0, 185.0, 187.0, 188.0, 189.0, 191.0, 192.0, 193.0, 195.0, 196.0, 197.0, 199.0, 200.0, 201.0, 202.0, 204.0, 205.0, 206.0, 208.0, 209.0, 211.0, 212.0], \"xaxis\": \"x\", \"y\": [26.27, 26.02, 26.02, 25.76, 26.02, 25.76, 25.25, 24.74, 25.25, 25.25, 25.0, 24.74, 25.0, 24.74, 25.0, 24.49, 24.49, 23.98, 23.98, 24.74, 24.23, 24.49, 23.47, 25.25, 27.29, 28.57, 29.59, 30.1, 31.38, 31.63, 33.16, 32.91, 33.67, 33.42, 33.67, 34.18, 34.95, 34.95, 35.46, 35.46, 35.97, 36.22, 36.22, 36.48, 36.73, 36.48, 37.24, 37.5, 37.76, 38.01, 38.01, 37.76, 38.27, 38.78, 38.78, 39.03, 39.03, 38.78, 38.01, 38.01, 38.01, 38.52, 38.27, 39.03, 39.03, 39.8, 39.54, 39.54, 39.54, 39.54, 40.05, 40.31, 40.31, 40.31, 40.05, 40.56, 40.31, 39.8, 40.82, 41.58, 41.33, 41.58, 41.07, 41.33, 41.33, 41.58, 40.82, 41.84, 41.58, 41.33, 41.33, 41.84, 42.6, 41.84, 42.09, 42.09, 42.09, 42.6, 42.09, 42.6, 41.84, 42.6, 42.6, 42.09, 43.11, 42.6, 42.6, 43.11, 42.86, 42.86, 42.6, 43.37, 43.11, 43.11, 43.37, 43.37, 43.62, 43.11, 43.11, 43.37, 42.6, 43.11, 43.11, 42.86, 42.6, 43.11, 42.86, 42.6, 42.6, 43.11, 43.37, 43.37, 43.37, 43.62, 43.37, 43.62, 43.62, 43.62, 43.62, 43.88, 43.37, 43.88, 44.13, 43.88, 43.37, 43.88, 43.62, 43.88, 43.62, 43.62, 44.13, 43.62, 43.37, 43.62, 43.88, 43.62, 43.11, 43.62, 43.62, 43.62, 43.88], \"yaxis\": \"y\"}, {\"line\": {\"color\": \"green\"}, \"marker\": {\"color\": \"red\"}, \"mode\": \"markers+lines\", \"name\": \"dT/dt vs time\", \"type\": \"scatter\", \"x\": [1.0, 2.0, 4.0, 5.0, 6.0, 8.0, 9.0, 10.0, 12.0, 13.0, 14.0, 16.0, 17.0, 18.0, 20.0, 21.0, 22.0, 24.0, 25.0, 26.0, 27.0, 29.0, 30.0, 31.0, 33.0, 34.0, 35.0, 37.0, 38.0, 39.0, 41.0, 42.0, 43.0, 45.0, 46.0, 47.0, 49.0, 50.0, 51.0, 52.0, 54.0, 55.0, 56.0, 58.0, 59.0, 60.0, 62.0, 63.0, 64.0, 66.0, 67.0, 68.0, 70.0, 71.0, 72.0, 74.0, 75.0, 76.0, 77.0, 79.0, 80.0, 81.0, 83.0, 84.0, 85.0, 87.0, 88.0, 89.0, 91.0, 92.0, 93.0, 95.0, 96.0, 97.0, 99.0, 100.0, 101.0, 102.0, 104.0, 105.0, 106.0, 108.0, 109.0, 110.0, 112.0, 113.0, 114.0, 116.0, 117.0, 118.0, 120.0, 121.0, 122.0, 124.0, 125.0, 126.0, 127.0, 129.0, 130.0, 131.0, 133.0, 134.0, 135.0, 137.0, 138.0, 139.0, 141.0, 142.0, 143.0, 145.0, 146.0, 147.0, 149.0, 150.0, 151.0, 152.0, 154.0, 155.0, 156.0, 158.0, 159.0, 160.0, 162.0, 163.0, 164.0, 166.0, 167.0, 168.0, 170.0, 171.0, 172.0, 174.0, 175.0, 176.0, 177.0, 179.0, 180.0, 181.0, 183.0, 184.0, 185.0, 187.0, 188.0, 189.0, 191.0, 192.0, 193.0, 195.0, 196.0, 197.0, 199.0, 200.0, 201.0, 202.0, 204.0, 205.0, 206.0, 208.0, 209.0, 211.0, 212.0], \"xaxis\": \"x2\", \"y\": [0.25, 0.08333333333333333, 0.086666666666666, 0.0, 0.0, 0.25666666666666654, 0.5100000000000016, 0.0, 0.1700000000000005, 0.125, 0.1700000000000005, 0.0, 0.0, 0.0, 0.08333333333333333, 0.2550000000000008, 0.16999999999999935, 0.16999999999999935, 0.379999999999999, 0.125, 0.08333333333333333, 0.25333333333333385, 0.3800000000000008, 1.2733333333333334, 1.1066666666666667, 1.1500000000000004, 0.5100000000000003, 0.5966666666666663, 0.7649999999999988, 0.5933333333333325, 0.42666666666666586, 0.25500000000000256, 0.1700000000000017, 0.0, 0.379999999999999, 0.426666666666667, 0.2566666666666677, 0.254999999999999, 0.254999999999999, 0.16999999999999935, 0.2533333333333327, 0.125, 0.086666666666666, 0.16999999999999935, 0.0, 0.1700000000000017, 0.340000000000001, 0.259999999999998, 0.16999999999999935, 0.08333333333333333, 0.125, 0.08666666666666838, 0.340000000000001, 0.254999999999999, 0.08333333333333333, 0.08333333333333333, 0.125, 0.5100000000000016, 0.2566666666666677, 0.0, 0.25500000000000256, 0.08666666666666838, 0.16999999999999935, 0.379999999999999, 0.2566666666666653, 0.16999999999999935, 0.129999999999999, 0.0, 0.0, 0.254999999999999, 0.2566666666666677, 0.08666666666666838, 0.0, 0.08666666666666838, 0.08333333333333333, 0.13000000000000256, 0.38000000000000256, 0.16999999999999935, 0.5933333333333337, 0.254999999999999, 0.0, 0.086666666666666, 0.125, 0.086666666666666, 0.08333333333333333, 0.254999999999999, 0.08666666666666838, 0.2533333333333327, 0.25500000000000256, 0.08333333333333333, 0.1700000000000017, 0.6350000000000016, 0.0, 0.16999999999999935, 0.125, 0.0, 0.16999999999999935, 0.0, 0.0, 0.08333333333333333, 0.0, 0.379999999999999, 0.16999999999999935, 0.16999999999999935, 0.254999999999999, 0.16999999999999935, 0.16999999999999935, 0.129999999999999, 0.08333333333333333, 0.086666666666666, 0.254999999999999, 0.16999999999999935, 0.086666666666666, 0.129999999999999, 0.129999999999999, 0.08333333333333333, 0.086666666666666, 0.254999999999999, 0.086666666666666, 0.16999999999999935, 0.129999999999999, 0.16999999999999935, 0.08333333333333333, 0.254999999999999, 0.08333333333333333, 0.086666666666666, 0.254999999999999, 0.086666666666666, 0.16999999999999935, 0.384999999999998, 0.086666666666666, 0.0, 0.125, 0.0, 0.0, 0.08333333333333333, 0.0, 0.0, 0.08666666666666838, 0.125, 0.0, 0.253333333333335, 0.0, 0.253333333333335, 0.0, 0.125, 0.0, 0.0, 0.13000000000000256, 0.1700000000000017, 0.0, 0.38000000000000256, 0.0, 0.1700000000000017, 0.0, 0.38500000000000156, 0.0, 0.16999999999999935, 0.0, 0.08666666666666838, 0.2600000000000051], \"yaxis\": \"y2\"}],\n",
              "                        {\"annotations\": [{\"font\": {\"size\": 16}, \"showarrow\": false, \"text\": \"Temperature vs time at dc20\", \"x\": 0.225, \"xanchor\": \"center\", \"xref\": \"paper\", \"y\": 1.0, \"yanchor\": \"bottom\", \"yref\": \"paper\"}, {\"font\": {\"size\": 16}, \"showarrow\": false, \"text\": \"dT/dt vs time at dc20\", \"x\": 0.775, \"xanchor\": \"center\", \"xref\": \"paper\", \"y\": 1.0, \"yanchor\": \"bottom\", \"yref\": \"paper\"}], \"height\": 800, \"template\": {\"data\": {\"bar\": [{\"error_x\": {\"color\": \"#f2f5fa\"}, \"error_y\": {\"color\": \"#f2f5fa\"}, \"marker\": {\"line\": {\"color\": \"rgb(17,17,17)\", \"width\": 0.5}}, \"type\": \"bar\"}], \"barpolar\": [{\"marker\": {\"line\": {\"color\": \"rgb(17,17,17)\", \"width\": 0.5}}, \"type\": \"barpolar\"}], \"carpet\": [{\"aaxis\": {\"endlinecolor\": \"#A2B1C6\", \"gridcolor\": \"#506784\", \"linecolor\": \"#506784\", \"minorgridcolor\": \"#506784\", \"startlinecolor\": \"#A2B1C6\"}, \"baxis\": {\"endlinecolor\": \"#A2B1C6\", \"gridcolor\": \"#506784\", \"linecolor\": \"#506784\", \"minorgridcolor\": \"#506784\", \"startlinecolor\": \"#A2B1C6\"}, \"type\": \"carpet\"}], \"choropleth\": [{\"colorbar\": {\"outlinewidth\": 0, \"ticks\": \"\"}, \"type\": \"choropleth\"}], \"contour\": [{\"colorbar\": {\"outlinewidth\": 0, \"ticks\": \"\"}, \"colorscale\": [[0.0, \"#0d0887\"], [0.1111111111111111, \"#46039f\"], [0.2222222222222222, \"#7201a8\"], [0.3333333333333333, \"#9c179e\"], [0.4444444444444444, \"#bd3786\"], [0.5555555555555556, \"#d8576b\"], [0.6666666666666666, \"#ed7953\"], [0.7777777777777778, \"#fb9f3a\"], [0.8888888888888888, \"#fdca26\"], [1.0, \"#f0f921\"]], \"type\": \"contour\"}], \"contourcarpet\": [{\"colorbar\": {\"outlinewidth\": 0, \"ticks\": \"\"}, \"type\": \"contourcarpet\"}], \"heatmap\": [{\"colorbar\": {\"outlinewidth\": 0, \"ticks\": \"\"}, \"colorscale\": [[0.0, \"#0d0887\"], [0.1111111111111111, \"#46039f\"], [0.2222222222222222, \"#7201a8\"], [0.3333333333333333, \"#9c179e\"], [0.4444444444444444, \"#bd3786\"], [0.5555555555555556, \"#d8576b\"], [0.6666666666666666, \"#ed7953\"], [0.7777777777777778, \"#fb9f3a\"], [0.8888888888888888, \"#fdca26\"], [1.0, \"#f0f921\"]], \"type\": \"heatmap\"}], \"heatmapgl\": [{\"colorbar\": {\"outlinewidth\": 0, \"ticks\": \"\"}, \"colorscale\": [[0.0, \"#0d0887\"], [0.1111111111111111, \"#46039f\"], [0.2222222222222222, \"#7201a8\"], [0.3333333333333333, \"#9c179e\"], [0.4444444444444444, \"#bd3786\"], [0.5555555555555556, \"#d8576b\"], [0.6666666666666666, \"#ed7953\"], [0.7777777777777778, \"#fb9f3a\"], [0.8888888888888888, \"#fdca26\"], [1.0, \"#f0f921\"]], \"type\": \"heatmapgl\"}], \"histogram\": [{\"marker\": {\"colorbar\": {\"outlinewidth\": 0, \"ticks\": \"\"}}, \"type\": \"histogram\"}], \"histogram2d\": [{\"colorbar\": {\"outlinewidth\": 0, \"ticks\": \"\"}, \"colorscale\": [[0.0, \"#0d0887\"], [0.1111111111111111, \"#46039f\"], [0.2222222222222222, \"#7201a8\"], [0.3333333333333333, \"#9c179e\"], [0.4444444444444444, \"#bd3786\"], [0.5555555555555556, \"#d8576b\"], [0.6666666666666666, \"#ed7953\"], [0.7777777777777778, \"#fb9f3a\"], [0.8888888888888888, \"#fdca26\"], [1.0, \"#f0f921\"]], \"type\": \"histogram2d\"}], \"histogram2dcontour\": [{\"colorbar\": {\"outlinewidth\": 0, \"ticks\": \"\"}, \"colorscale\": [[0.0, \"#0d0887\"], [0.1111111111111111, \"#46039f\"], [0.2222222222222222, \"#7201a8\"], [0.3333333333333333, \"#9c179e\"], [0.4444444444444444, \"#bd3786\"], [0.5555555555555556, \"#d8576b\"], [0.6666666666666666, \"#ed7953\"], [0.7777777777777778, \"#fb9f3a\"], [0.8888888888888888, \"#fdca26\"], [1.0, \"#f0f921\"]], \"type\": \"histogram2dcontour\"}], \"mesh3d\": [{\"colorbar\": {\"outlinewidth\": 0, \"ticks\": \"\"}, \"type\": \"mesh3d\"}], \"parcoords\": [{\"line\": {\"colorbar\": {\"outlinewidth\": 0, \"ticks\": \"\"}}, \"type\": \"parcoords\"}], \"pie\": [{\"automargin\": true, \"type\": \"pie\"}], \"scatter\": [{\"marker\": {\"line\": {\"color\": \"#283442\"}}, \"type\": \"scatter\"}], \"scatter3d\": [{\"line\": {\"colorbar\": {\"outlinewidth\": 0, \"ticks\": \"\"}}, \"marker\": {\"colorbar\": {\"outlinewidth\": 0, \"ticks\": \"\"}}, \"type\": \"scatter3d\"}], \"scattercarpet\": [{\"marker\": {\"colorbar\": {\"outlinewidth\": 0, \"ticks\": \"\"}}, \"type\": \"scattercarpet\"}], \"scattergeo\": [{\"marker\": {\"colorbar\": {\"outlinewidth\": 0, \"ticks\": \"\"}}, \"type\": \"scattergeo\"}], \"scattergl\": [{\"marker\": {\"line\": {\"color\": \"#283442\"}}, \"type\": \"scattergl\"}], \"scattermapbox\": [{\"marker\": {\"colorbar\": {\"outlinewidth\": 0, \"ticks\": \"\"}}, \"type\": \"scattermapbox\"}], \"scatterpolar\": [{\"marker\": {\"colorbar\": {\"outlinewidth\": 0, \"ticks\": \"\"}}, \"type\": \"scatterpolar\"}], \"scatterpolargl\": [{\"marker\": {\"colorbar\": {\"outlinewidth\": 0, \"ticks\": \"\"}}, \"type\": \"scatterpolargl\"}], \"scatterternary\": [{\"marker\": {\"colorbar\": {\"outlinewidth\": 0, \"ticks\": \"\"}}, \"type\": \"scatterternary\"}], \"surface\": [{\"colorbar\": {\"outlinewidth\": 0, \"ticks\": \"\"}, \"colorscale\": [[0.0, \"#0d0887\"], [0.1111111111111111, \"#46039f\"], [0.2222222222222222, \"#7201a8\"], [0.3333333333333333, \"#9c179e\"], [0.4444444444444444, \"#bd3786\"], [0.5555555555555556, \"#d8576b\"], [0.6666666666666666, \"#ed7953\"], [0.7777777777777778, \"#fb9f3a\"], [0.8888888888888888, \"#fdca26\"], [1.0, \"#f0f921\"]], \"type\": \"surface\"}], \"table\": [{\"cells\": {\"fill\": {\"color\": \"#506784\"}, \"line\": {\"color\": \"rgb(17,17,17)\"}}, \"header\": {\"fill\": {\"color\": \"#2a3f5f\"}, \"line\": {\"color\": \"rgb(17,17,17)\"}}, \"type\": \"table\"}]}, \"layout\": {\"annotationdefaults\": {\"arrowcolor\": \"#f2f5fa\", \"arrowhead\": 0, \"arrowwidth\": 1}, \"coloraxis\": {\"colorbar\": {\"outlinewidth\": 0, \"ticks\": \"\"}}, \"colorscale\": {\"diverging\": [[0, \"#8e0152\"], [0.1, \"#c51b7d\"], [0.2, \"#de77ae\"], [0.3, \"#f1b6da\"], [0.4, \"#fde0ef\"], [0.5, \"#f7f7f7\"], [0.6, \"#e6f5d0\"], [0.7, \"#b8e186\"], [0.8, \"#7fbc41\"], [0.9, \"#4d9221\"], [1, \"#276419\"]], \"sequential\": [[0.0, \"#0d0887\"], [0.1111111111111111, \"#46039f\"], [0.2222222222222222, \"#7201a8\"], [0.3333333333333333, \"#9c179e\"], [0.4444444444444444, \"#bd3786\"], [0.5555555555555556, \"#d8576b\"], [0.6666666666666666, \"#ed7953\"], [0.7777777777777778, \"#fb9f3a\"], [0.8888888888888888, \"#fdca26\"], [1.0, \"#f0f921\"]], \"sequentialminus\": [[0.0, \"#0d0887\"], [0.1111111111111111, \"#46039f\"], [0.2222222222222222, \"#7201a8\"], [0.3333333333333333, \"#9c179e\"], [0.4444444444444444, \"#bd3786\"], [0.5555555555555556, \"#d8576b\"], [0.6666666666666666, \"#ed7953\"], [0.7777777777777778, \"#fb9f3a\"], [0.8888888888888888, \"#fdca26\"], [1.0, \"#f0f921\"]]}, \"colorway\": [\"#636efa\", \"#EF553B\", \"#00cc96\", \"#ab63fa\", \"#FFA15A\", \"#19d3f3\", \"#FF6692\", \"#B6E880\", \"#FF97FF\", \"#FECB52\"], \"font\": {\"color\": \"#f2f5fa\"}, \"geo\": {\"bgcolor\": \"rgb(17,17,17)\", \"lakecolor\": \"rgb(17,17,17)\", \"landcolor\": \"rgb(17,17,17)\", \"showlakes\": true, \"showland\": true, \"subunitcolor\": \"#506784\"}, \"hoverlabel\": {\"align\": \"left\"}, \"hovermode\": \"closest\", \"mapbox\": {\"style\": \"dark\"}, \"paper_bgcolor\": \"rgb(17,17,17)\", \"plot_bgcolor\": \"rgb(17,17,17)\", \"polar\": {\"angularaxis\": {\"gridcolor\": \"#506784\", \"linecolor\": \"#506784\", \"ticks\": \"\"}, \"bgcolor\": \"rgb(17,17,17)\", \"radialaxis\": {\"gridcolor\": \"#506784\", \"linecolor\": \"#506784\", \"ticks\": \"\"}}, \"scene\": {\"xaxis\": {\"backgroundcolor\": \"rgb(17,17,17)\", \"gridcolor\": \"#506784\", \"gridwidth\": 2, \"linecolor\": \"#506784\", \"showbackground\": true, \"ticks\": \"\", \"zerolinecolor\": \"#C8D4E3\"}, \"yaxis\": {\"backgroundcolor\": \"rgb(17,17,17)\", \"gridcolor\": \"#506784\", \"gridwidth\": 2, \"linecolor\": \"#506784\", \"showbackground\": true, \"ticks\": \"\", \"zerolinecolor\": \"#C8D4E3\"}, \"zaxis\": {\"backgroundcolor\": \"rgb(17,17,17)\", \"gridcolor\": \"#506784\", \"gridwidth\": 2, \"linecolor\": \"#506784\", \"showbackground\": true, \"ticks\": \"\", \"zerolinecolor\": \"#C8D4E3\"}}, \"shapedefaults\": {\"line\": {\"color\": \"#f2f5fa\"}}, \"sliderdefaults\": {\"bgcolor\": \"#C8D4E3\", \"bordercolor\": \"rgb(17,17,17)\", \"borderwidth\": 1, \"tickwidth\": 0}, \"ternary\": {\"aaxis\": {\"gridcolor\": \"#506784\", \"linecolor\": \"#506784\", \"ticks\": \"\"}, \"baxis\": {\"gridcolor\": \"#506784\", \"linecolor\": \"#506784\", \"ticks\": \"\"}, \"bgcolor\": \"rgb(17,17,17)\", \"caxis\": {\"gridcolor\": \"#506784\", \"linecolor\": \"#506784\", \"ticks\": \"\"}}, \"title\": {\"x\": 0.05}, \"updatemenudefaults\": {\"bgcolor\": \"#506784\", \"borderwidth\": 0}, \"xaxis\": {\"automargin\": true, \"gridcolor\": \"#283442\", \"linecolor\": \"#506784\", \"ticks\": \"\", \"title\": {\"standoff\": 15}, \"zerolinecolor\": \"#283442\", \"zerolinewidth\": 2}, \"yaxis\": {\"automargin\": true, \"gridcolor\": \"#283442\", \"linecolor\": \"#506784\", \"ticks\": \"\", \"title\": {\"standoff\": 15}, \"zerolinecolor\": \"#283442\", \"zerolinewidth\": 2}}}, \"width\": 2400, \"xaxis\": {\"anchor\": \"y\", \"domain\": [0.0, 0.45], \"title\": {\"text\": \"time (seconds)\"}}, \"xaxis2\": {\"anchor\": \"y2\", \"domain\": [0.55, 1.0], \"title\": {\"text\": \"time (seconds)\"}}, \"yaxis\": {\"anchor\": \"x\", \"domain\": [0.0, 1.0], \"title\": {\"text\": \"Temperature\"}}, \"yaxis2\": {\"anchor\": \"x2\", \"domain\": [0.0, 1.0], \"title\": {\"text\": \"dT/dt\"}}},\n",
              "                        {\"responsive\": true}\n",
              "                    ).then(function(){\n",
              "                            \n",
              "var gd = document.getElementById('f4cf3ba6-a066-4d0f-a0ef-a17761355371');\n",
              "var x = new MutationObserver(function (mutations, observer) {{\n",
              "        var display = window.getComputedStyle(gd).display;\n",
              "        if (!display || display === 'none') {{\n",
              "            console.log([gd, 'removed!']);\n",
              "            Plotly.purge(gd);\n",
              "            observer.disconnect();\n",
              "        }}\n",
              "}});\n",
              "\n",
              "// Listen for the removal of the full notebook cells\n",
              "var notebookContainer = gd.closest('#notebook-container');\n",
              "if (notebookContainer) {{\n",
              "    x.observe(notebookContainer, {childList: true});\n",
              "}}\n",
              "\n",
              "// Listen for the clearing of the current output cell\n",
              "var outputEl = gd.closest('.output');\n",
              "if (outputEl) {{\n",
              "    x.observe(outputEl, {childList: true});\n",
              "}}\n",
              "\n",
              "                        })\n",
              "                };\n",
              "                \n",
              "            </script>\n",
              "        </div>\n",
              "</body>\n",
              "</html>"
            ]
          },
          "metadata": {}
        },
        {
          "output_type": "stream",
          "name": "stdout",
          "text": [
            "No Results for Temperature vs Laser Power Density\n"
          ]
        }
      ]
    },
    {
      "cell_type": "code",
      "metadata": {
        "id": "N4om8qKieGs3",
        "colab": {
          "base_uri": "https://localhost:8080/"
        },
        "outputId": "1eece3d4-b5a1-4a02-a806-990f66644a58"
      },
      "source": [
        "m,b=np.polyfit(np.arange(20, 100, 10), np.array(all_equ_temp), deg=1) # this function \n",
        "def givemedc(T):\n",
        "  req_dc = (T-b)/m\n",
        "  return np.int(req_dc)\n",
        "givemedc(65) \n",
        "# Please note that this function only return the required DutyCylce for equ T for CQD of 10x concentration,\n",
        "# in case of increase in concentration this value must increase (10 points for halfed-experimentally calculated)"
      ],
      "execution_count": 4,
      "outputs": [
        {
          "output_type": "execute_result",
          "data": {
            "text/plain": [
              "45"
            ]
          },
          "metadata": {},
          "execution_count": 4
        }
      ]
    },
    {
      "cell_type": "markdown",
      "metadata": {
        "id": "XviYQm16wJFi"
      },
      "source": [
        "##Photothermal Conversion Efficiency"
      ]
    },
    {
      "cell_type": "code",
      "metadata": {
        "id": "bOZsMPhEwBYi"
      },
      "source": [
        "#I0 = #incident laser power\n",
        "#Itr = #transmitted laser power\n",
        "#eta = # photothermal conversion eficiency\n",
        "#h = #heat transfor coefficient between solution and environment\n",
        "#S = #surface area seperating solution from environemnt \n",
        "#Tw = #solution temp\n",
        "#T0 = #environment temp\n",
        "#m = #mass of solition\n",
        "#Cp = #specific heat capacity of solution\n",
        "#v= volume of the CQD used in microliter\n",
        "#R = heating rate \n",
        "I0, Itr, eta, h, S, Tw, T0, m, Cp, R = symbols('I0, Itr, eta, h, S, Tw, T0, m, Cp, R')\n",
        "T0 = temperature[0]\n",
        "Tw = equ_temp\n",
        "v = 10\n",
        "vm = v*(1e-9)\n",
        "eta = (R*(Cp*m)+np.sum(h*S*(Tw - T0)))/(I0-Itr) # Equation to find the photothermal conversion efficiency"
      ],
      "execution_count": 51,
      "outputs": []
    },
    {
      "cell_type": "code",
      "metadata": {
        "colab": {
          "base_uri": "https://localhost:8080/"
        },
        "id": "kCufM6r4-h13",
        "outputId": "ef2205d6-4cb7-489a-e96b-406ad06b37a6"
      },
      "source": [
        "vm"
      ],
      "execution_count": 52,
      "outputs": [
        {
          "output_type": "execute_result",
          "data": {
            "text/plain": [
              "1e-08"
            ]
          },
          "metadata": {},
          "execution_count": 52
        }
      ]
    },
    {
      "cell_type": "code",
      "metadata": {
        "colab": {
          "base_uri": "https://localhost:8080/"
        },
        "id": "anaQmwt3_Zhg",
        "outputId": "392d8678-fee6-4f13-df06-0467367f36ba"
      },
      "source": [
        "T0"
      ],
      "execution_count": 28,
      "outputs": [
        {
          "output_type": "execute_result",
          "data": {
            "text/plain": [
              "26.27"
            ]
          },
          "metadata": {},
          "execution_count": 28
        }
      ]
    },
    {
      "cell_type": "markdown",
      "metadata": {
        "id": "HnjgrUxJSOWU"
      },
      "source": [
        "## Photothermal Heating Theory "
      ]
    },
    {
      "cell_type": "code",
      "metadata": {
        "id": "Mxj_HihcX9gH"
      },
      "source": [
        "def laplacian (f, x, y, z):\n",
        " return diff(f(x), x , 2)+diff(f(x), y , 2)+diff(f(x), z , 2)"
      ],
      "execution_count": 6,
      "outputs": []
    },
    {
      "cell_type": "code",
      "metadata": {
        "colab": {
          "base_uri": "https://localhost:8080/"
        },
        "id": "ximtP-yTA_rh",
        "outputId": "0c336bde-1d61-4ad2-d4e9-bd6976815346"
      },
      "source": [
        "x  =symbols('x')\n",
        "solve(x**2+2*x+1, x)"
      ],
      "execution_count": 40,
      "outputs": [
        {
          "output_type": "execute_result",
          "data": {
            "text/plain": [
              "[-1]"
            ]
          },
          "metadata": {},
          "execution_count": 40
        }
      ]
    },
    {
      "cell_type": "code",
      "metadata": {
        "id": "xuNZNEe1HPsO"
      },
      "source": [
        ""
      ],
      "execution_count": null,
      "outputs": []
    }
  ]
}