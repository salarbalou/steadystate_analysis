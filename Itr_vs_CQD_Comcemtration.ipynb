{
  "nbformat": 4,
  "nbformat_minor": 0,
  "metadata": {
    "colab": {
      "name": "Itr_vs_CQD_Comcemtration.ipynb",
      "provenance": [],
      "authorship_tag": "ABX9TyP7iA+35TMIPTu6CpOIMhaL",
      "include_colab_link": true
    },
    "kernelspec": {
      "name": "python3",
      "display_name": "Python 3"
    },
    "language_info": {
      "name": "python"
    }
  },
  "cells": [
    {
      "cell_type": "markdown",
      "metadata": {
        "id": "view-in-github",
        "colab_type": "text"
      },
      "source": [
        "<a href=\"https://colab.research.google.com/github/salarbalou/steadystate_analysis/blob/main/Itr_vs_CQD_Comcemtration.ipynb\" target=\"_parent\"><img src=\"https://colab.research.google.com/assets/colab-badge.svg\" alt=\"Open In Colab\"/></a>"
      ]
    },
    {
      "cell_type": "code",
      "metadata": {
        "id": "LRNQexEgJCoQ"
      },
      "source": [
        "import numpy as np\n",
        "import requests as req\n",
        "import plotly.io as pio\n",
        "import plotly.graph_objects as go\n",
        "import re\n",
        "import sympy as sy\n",
        "from sympy import symbols, diff\n",
        "from sympy.solvers import solve\n",
        "from scipy.misc import derivative\n",
        "import string as sr\n",
        "pio.templates.default ='plotly_dark'\n",
        "from plotly.subplots import make_subplots\n",
        "import plotly.express as px"
      ],
      "execution_count": null,
      "outputs": []
    },
    {
      "cell_type": "code",
      "metadata": {
        "id": "gWYX24JqS2wX"
      },
      "source": [
        "def findmb(x, y): # a simple function to find the slope and intecept of a line\n",
        "  m,b = np.polyfit(x, y, deg= 1)\n",
        "  return m,b"
      ],
      "execution_count": null,
      "outputs": []
    },
    {
      "cell_type": "code",
      "metadata": {
        "id": "9z6DQP0fJtcB"
      },
      "source": [
        "\n",
        "CQD_C= ['1', '2', '3', '4', '5', '6', '7', '8', '9', '10'] # a list of CQD Concentartions\n",
        "\n",
        "all_eta = [] # aan empty list of eta values (photothermal conversion efficiency) that can bes used to store the values of LPS generated in the for loop\n",
        "\n",
        "for C in CQD_C: # since we have multiple dutycylce values we make a for loop\n",
        " baseurl = 'https://raw.githubusercontent.com/salarbalou/steadystate_analysis/main/CQD' # base url of the text file \n",
        " char = 'X-t-T-dc-Itr.txt' # format of the file\n",
        " text = req.get(baseurl+C+char).text # we download and store the text of each file.txt\n",
        " data_path = re.compile(r'^([0-9.]+)[\\s,]+([0-9.]+)+[\\s,]+([-0-9.]+[\\s,]+([-0-9.]+[\\s,]+([-0-9.]+)', re.MULTILINE) # we grab the desired text within the text file (all data except for space and comma)\n",
        " data_list = data_path.findall(text) # this is a list of quadruple strings: each quadruple in this list have abcd string in it. \n",
        " data = []\n",
        " for pentapole in data_list:\n",
        "      eachpentapole = [] # this list here stores the float version of abcd in each quadruple: eachquadruple is a list of four float values\n",
        "      for abcde in pentapole:\n",
        "           eachpentapole.append(float(abcde))\n",
        "      data.append((eachpentapole[0], eachpentapole[1], eachpentapole[2], eachpentapole[3], eachpentapole[4])) # we append all eachquadruples in data\n",
        " final_data = np.array(data) # here we make an array of the list: final_data is a matrix with 183 rows and 4 columns (t, T, I, dc)\n",
        " time = final_data[:, 0]\n",
        " temperature = final_data[:, 1]\n",
        " dutycycle = final_data[:, 2]\n",
        " Itr = final_data[:, 3]\n",
        " I0 = final_data[:, 4]\n",
        " beam_height = 0.7 #cm\n",
        " beam_width = 0.5 #cm\n",
        "\n",
        "\n",
        "\n",
        " #I0 = #incident laser power J/s /////Can be increased by increasing laser power\n",
        " #Itr = #transmitted laser power J/s ////can be decreased by increasing the concentration AND by overlapping adsorption wl on nanoparticle and lser wl \n",
        " #eta = # photothermal conversion eficiency #coefficient # no units //// is a fucntion of nnaopartcle type\n",
        " #h = #heat transfor coefficient between solution and environment+ J/m^2*k*s\n",
        " #S = #surface area seperating solution from environemnt +m^2\n",
        " #Tw = #solution temp + K\n",
        " #T0 = #environment temp + K\n",
        " #m = #mass of solition + gr\n",
        " #Cp = #specific heat capacity of solution + J/g.K\n",
        " #v= volume of the CQD used in microliter + m^3\n",
        " #R = heating rate +K/s\n",
        " r = symbols('r')\n",
        " I0, Itr, eta, h, S, Tw, T0, m, Cp, R = symbols('I0, Itr, eta, h, S, Tw, T0, m, Cp, R')\n",
        "\n",
        " T0 = np.min(temperature)+273.15 #K\n",
        " Tw = np.max(temperature)+273.15 #K\n",
        " rho = 1 #density of water g/cm^3\n",
        " V= #volume of a part of solution thorugh which the laser beam is passing\n",
        " m= rho*1e-2 #gr based on density of water to be 1g/cm^3\n",
        " R = 1.5*1e-3 #radius of the volume filled with CQDs for 10ul CQD #m\n",
        " H  = 3.2*1e-3 # height of the volume filled with CQDs for 10ul CQD #m\n",
        " hmin = 598*1e-3 # W/mK at 20C\n",
        " hmax = 677*1e-3 # W/mK at 100\n",
        " mh, bh = findmb(np.arange(20, 100, 1)+273, np.arange(hmin, hmax, 1e-3))\n",
        " h = np.max((mh*(temperature[22:112]+273.15)+bh))  #W/m^2*k\n",
        " S = np.pi*R*(R+np.sqrt((H)**2+(R)**2)) #Surface Area of cone filled with CQD #m^2\n",
        " rate = findmb(np.arange(np.sort(temperature[22:112]).size), temperature[22:112]+273.15)[0] #K/s\n",
        " Cp = 4.184 #J/g.K for water\n",
        " eta = (rate*(Cp*m)+np.sum((h*S*(Tw - T0))))/(I0-Itr) # Equation to find the photothermal conversion efficiency #unit less # coefficient\n",
        " all_eta.append(eta)\n",
        "\n",
        "\n"
      ],
      "execution_count": null,
      "outputs": []
    },
    {
      "cell_type": "code",
      "metadata": {
        "id": "N4om8qKieGs3",
        "colab": {
          "base_uri": "https://localhost:8080/"
        },
        "outputId": "2ab975ee-e509-4781-c372-2b6aa67db884"
      },
      "source": [
        "m,b=np.polyfit(np.arange(20, 100, 10), np.array(all_equ_temp), deg=1) # this function \n",
        "def givemedc(T):\n",
        "  req_dc = (T-b)/m\n",
        "  return np.int(req_dc)\n",
        "givemedc(65) \n",
        "# Please note that this function only return the required DutyCylce for equ T for CQD of 10x concentration,\n",
        "# in case of increase in concentration this value must increase (10 points for halfed-experimentally calculated)"
      ],
      "execution_count": null,
      "outputs": [
        {
          "output_type": "execute_result",
          "data": {
            "text/plain": [
              "45"
            ]
          },
          "metadata": {},
          "execution_count": 6
        }
      ]
    },
    {
      "cell_type": "code",
      "metadata": {
        "id": "xGPvaQgiMtpd"
      },
      "source": [
        " fig = make_subplots(rows = 1, cols = 2, subplot_titles=('Temperature vs time for CQD'+C+'X')\n",
        " fig.add_scatter(x = time, y = temperature, mode = 'markers+lines', marker_color = 'red', row = 1, col = 1, name = 'Temperature vs time')\n",
        " fig.add_scatter(x = time, y = diffTt, mode = 'markers+lines', marker_color ='red' , line_color = \"green\", row  = 1, col  =2, name='dT/dt vs time')\n",
        " fig.update_xaxes(title_text = 'time (seconds)', row = 1, col = 1)\n",
        " fig.update_xaxes(title_text = 'time (seconds)', row = 1, col = 2)\n",
        " fig.update_yaxes(title_text = 'Temperature', row = 1, col = 1)\n",
        " fig.update_yaxes(title_text = 'dT/dt', row = 1, col = 2)\n",
        " fig.update_layout(height = 800, width = 2400)\n",
        " fig.show()"
      ],
      "execution_count": null,
      "outputs": []
    },
    {
      "cell_type": "code",
      "metadata": {
        "id": "z55Jz-ByXexj"
      },
      "source": [
        "if (np.array(all_equ_temp).size>1): # this will show the Temperature vs DutyCycle plot only in case if we have more than 1 utilized dutycycle\n",
        " fig2 = make_subplots(specs=[[{\"secondary_y\": True}]])\n",
        " fig2.add_trace(go.Scatter(x = all_laser_power_density, y= all_equ_temp, mode = 'markers+lines',name = 'Temperature vs Laser Power Density', marker_color = 'red'), secondary_y = False)\n",
        " fig2.add_trace(go.Scatter(x = all_laser_power_density, y= all_eta, mode = 'markers+lines', name = 'Photothermal Converson Effeciency vs Laser Power Density', marker_color = 'blue'), secondary_y = True)\n",
        " fig2.update_layout(height = 800, width= 2400)\n",
        " fig2.update_xaxes(title = \"Laser Power Density (W/cm^2)\")\n",
        " fig2.update_yaxes(title = 'Temperature', secondary_y=False)\n",
        " fig2.update_yaxes(title = 'Photothermal Conversion Efficiency', secondary_y=True)\n",
        " fig2.show()\n",
        "else:\n",
        " print('No Results')"
      ],
      "execution_count": null,
      "outputs": []
    },
    {
      "cell_type": "markdown",
      "metadata": {
        "id": "3j40HI4gRd_d"
      },
      "source": [
        "## Photothermal Theory:\n",
        "Plasma is hot matter, in which electron are ripped apart from the \n",
        "\n",
        "*   When energy is given to plasma, it starts to oscilliate \n",
        "*   this phenomena is called plasmon oscilliation which froms a quasi particle called plasmon\n",
        "\n",
        "\n",
        "*   in other words, plasmon is the quantum of plasma oscilliaiton \n",
        "*   similliar to photons, the quantum particles of optical oscilliaiotn\n",
        "\n",
        "\n",
        "*   plasmonic resonance is mostly seen in electrons due to the abundacne of free free electron carriers (metals are conductive!)\n",
        "*   However, plasmonic resonacne can also be seen in semiconductor of nanocrystals (ex,CQDs) that have hih concnetration of free electon carriers. \n",
        "\n",
        "\n",
        "*   quantumm dots are artificial atoms, small semiconductor particles\n",
        "*   when photon couples with electron, electron excites from its valence band to condcution band, which makes a hole in the former.\n",
        "since the size of the quantum dot is much smaller than the excitation wevelenght, the hole and excited electron can couple and froma quasi particle called exciton. This quasiparticel has high energy compared to the particle which is larger. \n",
        "\n",
        "\n",
        "\n",
        "\n",
        "\n",
        "\n",
        "\n",
        "\n"
      ]
    }
  ]
}