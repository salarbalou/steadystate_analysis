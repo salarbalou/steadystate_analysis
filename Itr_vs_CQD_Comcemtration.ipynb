{
  "nbformat": 4,
  "nbformat_minor": 0,
  "metadata": {
    "colab": {
      "name": "Itr_vs_CQD_Comcemtration.ipynb",
      "provenance": [],
      "authorship_tag": "ABX9TyMftMllUBLC+fopyKWeN64g",
      "include_colab_link": true
    },
    "kernelspec": {
      "name": "python3",
      "display_name": "Python 3"
    },
    "language_info": {
      "name": "python"
    }
  },
  "cells": [
    {
      "cell_type": "markdown",
      "metadata": {
        "id": "view-in-github",
        "colab_type": "text"
      },
      "source": [
        "<a href=\"https://colab.research.google.com/github/salarbalou/steadystate_analysis/blob/main/Itr_vs_CQD_Comcemtration.ipynb\" target=\"_parent\"><img src=\"https://colab.research.google.com/assets/colab-badge.svg\" alt=\"Open In Colab\"/></a>"
      ]
    },
    {
      "cell_type": "code",
      "metadata": {
        "id": "LRNQexEgJCoQ"
      },
      "source": [
        "import numpy as np\n",
        "import requests as req\n",
        "import plotly.io as pio\n",
        "import plotly.express as px\n",
        "import plotly.graph_objects as go\n",
        "import re\n",
        "import sympy as sy\n",
        "from sympy import symbols, diff\n",
        "from sympy.solvers import solve\n",
        "from scipy.misc import derivative\n",
        "import string as sr\n",
        "pio.templates.default ='plotly_dark'\n",
        "from plotly.subplots import make_subplots\n",
        "import plotly.express as px"
      ],
      "execution_count": 1,
      "outputs": []
    },
    {
      "cell_type": "code",
      "metadata": {
        "id": "gWYX24JqS2wX"
      },
      "source": [
        "def findmb(x, y): # a simple function to find the slope and intecept of a line\n",
        "  m,b = np.polyfit(x, y, deg= 1)\n",
        "  return m,b"
      ],
      "execution_count": 2,
      "outputs": []
    },
    {
      "cell_type": "code",
      "metadata": {
        "id": "9z6DQP0fJtcB"
      },
      "source": [
        "\n",
        "CQD_C= ['1', '2', '3', '4', '5', '6', '7', '8', '9', '10'] # a list of CQD Concentartions\n",
        "\n",
        "all_eta = [] # aan empty list of eta values (photothermal conversion efficiency) that can bes used to store the values of LPS generated in the for loop\n",
        "all_Itr = []\n",
        "all_I0 = []\n",
        "for C in CQD_C: # since we have multiple dutycylce values we make a for loop\n",
        " baseurl = 'https://raw.githubusercontent.com/salarbalou/steadystate_analysis/main/CQD' # base url of the text file \n",
        " char = 'X-t-T-dc-Itr.txt' # format of the file\n",
        " text = req.get(baseurl+C+char).text # we download and store the text of each file.txt\n",
        " data_path = re.compile(r'^([0-9.]+)[\\s,]+([0-9.]+)+[\\s,]+([-0-9.]+)+[\\s,]+([-0-9.]+)+[\\s,]+([-0-9.]+)', re.MULTILINE) # we grab the desired text within the text file (all data except for space and comma)\n",
        " data_list = data_path.findall(text) # this is a list of quadruple strings: each quadruple in this list have abcd string in it. \n",
        " data = []\n",
        " for pentapole in data_list:\n",
        "      eachpentapole = [] # this list here stores the float version of abcd in each quadruple: eachquadruple is a list of four float values\n",
        "      for abcde in pentapole:\n",
        "           eachpentapole.append(float(abcde))\n",
        "      data.append((eachpentapole[0], eachpentapole[1], eachpentapole[2], eachpentapole[3], eachpentapole[4])) # we append all eachquadruples in data\n",
        " final_data = np.array(data) # here we make an array of the list: final_data is a matrix with 183 rows and 4 columns (t, T, I, dc)\n",
        " time = final_data[:, 0]\n",
        " temperature = final_data[:, 1]\n",
        " dutycycle = final_data[:, 2]\n",
        "\n",
        " Itr = np.max(final_data[:, 3])/1000 #W\n",
        " all_Itr.append(Itr)\n",
        " I0 = np.max(final_data[:, 4])/1000 #W\n",
        " all_I0.append(I0)\n",
        "\n",
        "\n",
        "\n",
        " #I0 = #incident laser power J/s /////Can be increased by increasing laser power\n",
        " #Itr = #transmitted laser power J/s ////can be decreased by increasing the concentration AND by overlapping adsorption wl on nanoparticle and lser wl \n",
        " #eta = # photothermal conversion eficiency #coefficient # no units //// is a fucntion of nnaopartcle type\n",
        " #h = #heat transfor coefficient between solution and environment+ J/m^2*k*s\n",
        " #S = #surface area seperating solution from environemnt +m^2\n",
        " #Tw = #solution temp + K\n",
        " #T0 = #environment temp + K\n",
        " #m = #mass of solition + gr\n",
        " #Cp = #specific heat capacity of solution + J/g.K\n",
        " #v= volume of the CQD used in microliter + m^3\n",
        " #R = heating rate +K/s\n",
        "\n",
        " T0 = np.min(temperature)+273.15 #K\n",
        " Tw = np.max(temperature)+273.15 #K\n",
        " beam_height = 7*1e-3 #radius of the volume filled with CQDs for 10ul CQD #m\n",
        " beam_width  = 5*1e-3 # height of the volume filled with CQDs for 10ul CQD #m\n",
        " cuvette_lenght = 10*1e-3 #m\n",
        " rho = 1000 #density of water kg/m^3\n",
        " S= 2*(beam_height+beam_width)*cuvette_lenght #surface area of a part of solution thorugh which the laser beam is passing m^2\n",
        " V = beam_height*beam_width*cuvette_lenght #volume of a part of solution thorugh which the laser beam is passing #m^3\n",
        " m = (rho*V)*1000 #gr \n",
        " \n",
        " h = 600*1e-3 # W/m^2K at 20C #heat transfor coeffcient\n",
        " Cp = 4.184 #J/g.K for water\n",
        " rate = (Tw-T0)/(np.max(time)-np.min(time))\n",
        "\n",
        " eta = (rate*(Cp*m)+np.sum((h*S*(Tw - T0))))/(I0-Itr)*100 # Equation to find the photothermal conversion efficiency #unit less # coefficient in % (can range from 0% to 100%)\n",
        " all_eta.append(eta)\n",
        " final_eta = np.sum(all_eta)/np.array(all_eta).size"
      ],
      "execution_count": 3,
      "outputs": []
    },
    {
      "cell_type": "code",
      "metadata": {
        "id": "BMpxjhJnk-7e"
      },
      "source": [
        " fig = make_subplots()\n",
        " fig.add_trace(go.Bar(x = np.arange(1,11,1), y = (np.array(all_I0)-np.array(all_Itr))/np.max(time)*1000, marker=dict(color=np.arange(1,11,1))))\n",
        " fig2 = make_subplots()\n",
        " fig2.add_trace(go.Bar(x = np.arange(1,11,1), y = np.array(all_eta), marker=dict(color='red')))\n",
        " fig.update_xaxes(title = 'CQD Concentration (X)', nticks = 20)\n",
        " fig.update_yaxes(title = 'Energy Absorbed (mJ)', nticks = 20)\n",
        " fig2.update_xaxes(title = 'CQD Concentration (X)', nticks = 20)\n",
        " fig2.update_yaxes(title = 'Photothermal Conversion Efficiency (%)', nticks = 20)\n",
        " fig.show()\n",
        " fig2.show()\n"
      ],
      "execution_count": null,
      "outputs": []
    },
    {
      "cell_type": "markdown",
      "metadata": {
        "id": "3j40HI4gRd_d"
      },
      "source": [
        "## Photothermal Theory:\n",
        "Plasma is hot matter, in which electron are ripped apart from the \n",
        "\n",
        "*   When energy is given to plasma, it starts to oscilliate \n",
        "*   this phenomena is called plasmon oscilliation which froms a quasi particle called plasmon\n",
        "\n",
        "\n",
        "*   in other words, plasmon is the quantum of plasma oscilliaiton \n",
        "*   similliar to photons, the quantum particles of optical oscilliaiotn\n",
        "\n",
        "\n",
        "*   plasmonic resonance is mostly seen in electrons due to the abundacne of free free electron carriers (metals are conductive!)\n",
        "*   However, plasmonic resonacne can also be seen in semiconductor of nanocrystals (ex,CQDs) that have hih concnetration of free electon carriers. \n",
        "\n",
        "\n",
        "*   quantumm dots are artificial atoms, small semiconductor particles\n",
        "*   when photon couples with electron, electron excites from its valence band to condcution band, which makes a hole in the former.\n",
        "since the size of the quantum dot is much smaller than the excitation wevelenght, the hole and excited electron can couple and froma quasi particle called exciton. This quasiparticel has high energy compared to the particle which is larger. \n",
        "\n",
        "\n",
        "\n",
        "\n",
        "\n",
        "\n",
        "\n",
        "\n"
      ]
    }
  ]
}