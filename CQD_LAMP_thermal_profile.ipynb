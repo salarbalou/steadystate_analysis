{
  "nbformat": 4,
  "nbformat_minor": 0,
  "metadata": {
    "colab": {
      "name": "CQD_LAMP_thermal_profile.ipynb",
      "provenance": [],
      "collapsed_sections": [],
      "authorship_tag": "ABX9TyOHHif6xR1+1o9c7WuBOyzd",
      "include_colab_link": true
    },
    "kernelspec": {
      "name": "python3",
      "display_name": "Python 3"
    },
    "language_info": {
      "name": "python"
    }
  },
  "cells": [
    {
      "cell_type": "markdown",
      "metadata": {
        "id": "view-in-github",
        "colab_type": "text"
      },
      "source": [
        "<a href=\"https://colab.research.google.com/github/salarbalou/steadystate_analysis/blob/main/CQD_LAMP_thermal_profile.ipynb\" target=\"_parent\"><img src=\"https://colab.research.google.com/assets/colab-badge.svg\" alt=\"Open In Colab\"/></a>"
      ]
    },
    {
      "cell_type": "code",
      "metadata": {
        "id": "AnhNM122Q8Ml"
      },
      "source": [
        "import numpy as np\n",
        "import requests as req\n",
        "import plotly.io as pio\n",
        "import plotly.graph_objects as go\n",
        "import re\n",
        "import sympy as sy\n",
        "from sympy import symbols, diff\n",
        "from sympy.solvers import solve\n",
        "from scipy.misc import derivative\n",
        "import string as sr\n",
        "pio.templates.default ='plotly_dark'\n",
        "from plotly.subplots import make_subplots\n",
        "import plotly.express as px"
      ],
      "execution_count": 1,
      "outputs": []
    },
    {
      "cell_type": "code",
      "metadata": {
        "id": "BhEVKWv4Q9oC"
      },
      "source": [
        "def findmb(x, y): # a simple function to find the slope and intecept of a line\n",
        "  m,b = np.polyfit(x, y, deg= 1)\n",
        "  return m,b"
      ],
      "execution_count": 2,
      "outputs": []
    },
    {
      "cell_type": "code",
      "metadata": {
        "id": "oHlP16pjTcuv"
      },
      "source": [
        "#arduino code used to achieve this thermal profile is as shown below:\n",
        "from google.colab import files\n",
        "!wget 'https://raw.githubusercontent.com/salarbalou/steadystate_analysis/main/Optimize_T_LAMP.ino'\n",
        "code = files.view('Optimize_T_LAMP.ino')"
      ],
      "execution_count": null,
      "outputs": []
    },
    {
      "cell_type": "code",
      "metadata": {
        "id": "lpZyTM-KQ7NQ"
      },
      "source": [
        "baseurl = 'https://raw.githubusercontent.com/salarbalou/steadystate_analysis/main/' # base url of the text file \n",
        "char = '.txt' # format of the file\n",
        "process_description= '10-28-21-CQD-Colorimetric%20LAMP' #experiment was performed on 10-20-21 using CQD 10x/ dutycycle values change\n",
        "text = req.get(baseurl+process_description+char).text # we download and store the text of each file.txt\n",
        "data_path = re.compile(r'^([0-9.]+)[\\s,]+([0-9.]+)+[\\s,]+([-0-9.]+)+[\\s,]+([0-9]+)', re.MULTILINE) # we grab the desired text within the text file (all data except for space and comma)\n",
        "data_list = data_path.findall(text) # this is a list of quadruple strings: each quadruple in this list have abcd string in it. \n",
        "data = []\n",
        "for quadruple in data_list:\n",
        "    eachquadruple = [] # this list here stores the float version of abcd in each quadruple: eachquadruple is a list of four float values\n",
        "    for abcd in quadruple:\n",
        "          eachquadruple.append(float(abcd))\n",
        "    data.append((eachquadruple[0], eachquadruple[1], eachquadruple[2], eachquadruple[3])) # we append all eachquadruples in data\n",
        "final_data = np.array(data) # here we make an array of the list: final_data is a matrix with 183 rows and 4 columns (t, T, I, dc)\n",
        "time = final_data[:, 0][1:]\n",
        "temperature = final_data[:, 1][1:]\n",
        "temperature1 = temperature[22:]\n",
        "equ_temp = np.max(temperature, axis=0) # as mentioned, we assume the max T is the equ_T\n",
        "current = np.sum(-final_data[:, 2][24:162], axis = 0)/138 #Amps\n",
        "dutycycle = final_data[:, 3][23:162]\n",
        "beam_height = 0.5 #cm\n",
        "beam_width = 0.2 #cm\n",
        "voltage_value = np.linspace(6, 7.5, num = 230) # max voltage is 7.5V, min voltage required for laser to turn on is 6V. if we polyfit V with dutycyle(0:250), find the relation of V and dc\n",
        "dutycycle_value  = np.arange(20, 250,1)\n",
        "m, b = findmb(dutycycle_value, voltage_value) \n",
        "realvoltage = np.sum(m*dutycycle+b)/dutycycle.size #V\n",
        "laser_power_density = np.array(((realvoltage*current)/(beam_height*beam_width))) #W/cm^2\n",
        "dt = np.gradient(time)\n",
        "dT = np.gradient(temperature)\n",
        "diffTt = np.sqrt((dT/dt)**2)\n",
        "fig = make_subplots(rows = 1, cols = 2, subplot_titles=('Temperature vs time at ', 'dT/dt vs time at '))\n",
        "fig.add_scatter(x = time, y = temperature, mode = 'markers+lines', marker_color = 'red', row = 1, col = 1, name = 'Temperature vs time')\n",
        "fig.add_scatter(x = time, y = diffTt, mode = 'markers+lines', marker_color ='red' , line_color = \"green\", row  = 1, col  =2, name='dT/dt vs time')\n",
        "fig.update_xaxes(title_text = 'time (seconds)', row = 1, col = 1)\n",
        "fig.update_xaxes(title_text = 'time (seconds)', row = 1, col = 2)\n",
        "fig.update_yaxes(title_text = 'Temperature', row = 1, col = 1)\n",
        "fig.update_yaxes(title_text = 'dT/dt', row = 1, col = 2)\n",
        "fig.update_layout(height = 800, width = 2400)\n",
        "fig.show()"
      ],
      "execution_count": null,
      "outputs": []
    },
    {
      "cell_type": "code",
      "metadata": {
        "colab": {
          "base_uri": "https://localhost:8080/"
        },
        "id": "txg_UVltRyAo",
        "outputId": "233ad2b7-1945-4d69-ee42-fd33affdb92c"
      },
      "source": [
        "laser_power_density"
      ],
      "execution_count": 7,
      "outputs": [
        {
          "output_type": "execute_result",
          "data": {
            "text/plain": [
              "array(35.16137557)"
            ]
          },
          "metadata": {},
          "execution_count": 7
        }
      ]
    }
  ]
}